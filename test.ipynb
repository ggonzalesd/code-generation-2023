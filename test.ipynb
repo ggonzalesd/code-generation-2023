{
 "cells": [
  {
   "cell_type": "code",
   "execution_count": 1,
   "metadata": {},
   "outputs": [],
   "source": [
    "import math, random\n",
    "import numpy as np\n",
    "import torch\n",
    "from torch import nn\n",
    "import torch.nn.functional as F\n",
    "from torch.nn.utils.rnn import pad_sequence\n",
    "import matplotlib.pyplot as plt"
   ]
  },
  {
   "cell_type": "code",
   "execution_count": 2,
   "metadata": {},
   "outputs": [
    {
     "data": {
      "text/plain": [
       "([tensor([16, 57, 36, 32, 44, 17, 55, 30, 62, 55, 19, 56, 61,  1, 38, 61, 33, 20,\n",
       "          48, 60, 37, 33, 50, 24]),\n",
       "  tensor([47, 31, 20, 21, 50, 10, 50, 42, 59, 38, 56, 15, 16, 43, 26]),\n",
       "  tensor([36, 62, 36, 33, 38, 11, 43, 51, 35, 61, 41, 10, 51, 32, 31, 49,  7, 40,\n",
       "          31,  8, 24, 13, 39,  3]),\n",
       "  tensor([24, 27, 61,  8, 22, 18, 24, 22, 34, 11, 17, 56, 20, 20, 39, 35, 23, 30,\n",
       "          60]),\n",
       "  tensor([47,  9,  2, 23,  6, 33, 13, 15, 31, 57, 42, 40, 41, 47]),\n",
       "  tensor([58, 18, 56, 59,  9, 33, 52, 42, 26, 41, 49, 47, 36, 40, 51, 53, 47, 32,\n",
       "          32]),\n",
       "  tensor([36, 23, 37,  8, 24, 45, 15, 62, 13, 28, 10, 28,  1, 55, 61, 52, 61, 41,\n",
       "          10]),\n",
       "  tensor([61,  6, 28, 17, 52, 44, 48, 17,  2,  5, 10, 45, 21, 13, 15, 21,  6, 48,\n",
       "          26])],\n",
       " [24, 15, 24, 19, 14, 19, 19, 19])"
      ]
     },
     "execution_count": 2,
     "metadata": {},
     "output_type": "execute_result"
    }
   ],
   "source": [
    "data = [ torch.randint(1, 63, (random.randint(12, 24),)) for _ in range(8) ]\n",
    "length = [ t.shape[0] for t in data]\n",
    "data, length"
   ]
  },
  {
   "cell_type": "code",
   "execution_count": 3,
   "metadata": {},
   "outputs": [
    {
     "data": {
      "text/plain": [
       "(tensor([[16, 57, 36, 32, 44, 17, 55, 30, 62, 55, 19, 56, 61,  1, 38, 61, 33, 20,\n",
       "          48, 60, 37, 33, 50, 24],\n",
       "         [47, 31, 20, 21, 50, 10, 50, 42, 59, 38, 56, 15, 16, 43, 26,  0,  0,  0,\n",
       "           0,  0,  0,  0,  0,  0],\n",
       "         [36, 62, 36, 33, 38, 11, 43, 51, 35, 61, 41, 10, 51, 32, 31, 49,  7, 40,\n",
       "          31,  8, 24, 13, 39,  3],\n",
       "         [24, 27, 61,  8, 22, 18, 24, 22, 34, 11, 17, 56, 20, 20, 39, 35, 23, 30,\n",
       "          60,  0,  0,  0,  0,  0],\n",
       "         [47,  9,  2, 23,  6, 33, 13, 15, 31, 57, 42, 40, 41, 47,  0,  0,  0,  0,\n",
       "           0,  0,  0,  0,  0,  0],\n",
       "         [58, 18, 56, 59,  9, 33, 52, 42, 26, 41, 49, 47, 36, 40, 51, 53, 47, 32,\n",
       "          32,  0,  0,  0,  0,  0],\n",
       "         [36, 23, 37,  8, 24, 45, 15, 62, 13, 28, 10, 28,  1, 55, 61, 52, 61, 41,\n",
       "          10,  0,  0,  0,  0,  0],\n",
       "         [61,  6, 28, 17, 52, 44, 48, 17,  2,  5, 10, 45, 21, 13, 15, 21,  6, 48,\n",
       "          26,  0,  0,  0,  0,  0]]),\n",
       " [24, 15, 24, 19, 14, 19, 19, 19])"
      ]
     },
     "execution_count": 3,
     "metadata": {},
     "output_type": "execute_result"
    }
   ],
   "source": [
    "X_batch = pad_sequence(data, True)\n",
    "X_batch, length"
   ]
  },
  {
   "cell_type": "code",
   "execution_count": 489,
   "metadata": {},
   "outputs": [],
   "source": [
    "def create_sin_cos_encoding(d_model, max_seq_length, dtype, device):\n",
    "  kargs = {\n",
    "    'dtype': dtype,\n",
    "    'device': device\n",
    "  }\n",
    "  pe = torch.zeros(max_seq_length, d_model, **kargs)\n",
    "  position = torch.arange(0, max_seq_length, **kargs).unsqueeze(1)\n",
    "  div_term = torch.exp(torch.arange(0, d_model, 2, **kargs).float() * -(math.log(1e+4) / d_model))\n",
    "\n",
    "  pe[:, 0::2] = torch.sin(position * div_term)\n",
    "  pe[:, 1::2] = torch.cos(position * div_term)\n",
    "\n",
    "  return pe.unsqueeze(0)\n",
    "\n",
    "class PositionalEncoding(nn.Module):\n",
    "  def __init__(self, d_model=512, max_seq_length=2048, dtype=None, device=None):\n",
    "    super(PositionalEncoding, self).__init__()\n",
    "    self.d_model = d_model\n",
    "    self.max_seq_length = max_seq_length\n",
    "    pe = create_sin_cos_encoding(d_model, max_seq_length, dtype, device)\n",
    "    \n",
    "    self.register_buffer('pe', pe)\n",
    "  \n",
    "  def forward(self, X):\n",
    "    return X + self.pe[:, :X.shape[1]].to(X.device)\n",
    "\n",
    "  def __repr__(self):\n",
    "    return f'{PositionalEncoding.__name__}(d_model={self.d_model}, max={self.max_seq_length})'\n",
    "\n",
    "class StepEncoding(nn.Module):\n",
    "  def __init__(self, d_model=512, max_seq_length=2048, dtype=None, device=None):\n",
    "    super(StepEncoding, self).__init__()\n",
    "    self.d_model = d_model\n",
    "    self.max_seq_length = max_seq_length\n",
    "    pe = create_sin_cos_encoding(d_model, max_seq_length, dtype, device)\n",
    "    \n",
    "    self.register_buffer('pe', pe)\n",
    "  \n",
    "  def forward(self, X, steps, mask=None):\n",
    "    if mask is None:\n",
    "      return X + self.pe[0][steps,:].unsqueeze(1)\n",
    "    else:\n",
    "      steps_per_mask = (mask * steps.unsqueeze(1))[mask]\n",
    "      X[mask] += self.pe[0][steps_per_mask]\n",
    "      return X\n",
    "\n",
    "  def __repr__(self):\n",
    "    return f'{StepEncoding.__name__}(d_model={self.d_model}, max={self.max_seq_length})'\n"
   ]
  },
  {
   "cell_type": "code",
   "execution_count": 484,
   "metadata": {},
   "outputs": [],
   "source": [
    "pe = StepEncoding(6, 16, dtype=torch.float16)\n",
    "data = torch.zeros(2, 4, 6, dtype=torch.float16)\n",
    "mask = torch.BoolTensor([\n",
    "  [0, 0, 1, 1],\n",
    "  [0, 1, 1, 1]\n",
    "])\n",
    "steps = torch.LongTensor([5, 3])\n",
    "\n",
    "out_data = pe(data, steps, mask)"
   ]
  },
  {
   "cell_type": "code",
   "execution_count": 490,
   "metadata": {},
   "outputs": [
    {
     "data": {
      "text/plain": [
       "MaskedForwardDiffusion(steps=64)"
      ]
     },
     "execution_count": 490,
     "metadata": {},
     "output_type": "execute_result"
    }
   ],
   "source": [
    "class MaskedForwardDiffusion(nn.Module):\n",
    "  def __init__(self, max_steps, dtype=None, device=None):\n",
    "    self.kargs = {\n",
    "      'dtype': dtype,\n",
    "      'device': device\n",
    "    }\n",
    "    super(MaskedForwardDiffusion, self).__init__()\n",
    "    self.max_steps = max_steps\n",
    "\n",
    "  def forward(self, X, steps, mask):\n",
    "    noise = torch.randn_like(X, **self.kargs)\n",
    "\n",
    "    noise_intense = 1.0 - (steps / self.max_steps).unsqueeze(-1)\n",
    "    noise_intense = 1.0 - torch.cos(torch.pi * noise_intense / 2)\n",
    "\n",
    "    X[mask] *= (mask * noise_intense)[mask].unsqueeze(-1)\n",
    "    X[mask] += noise[mask] * (mask * (1.0-noise_intense))[mask].unsqueeze(-1)\n",
    "\n",
    "    return X\n",
    "\n",
    "  def __repr__(self):\n",
    "    return f\"{MaskedForwardDiffusion.__name__}(steps={self.max_steps})\"\n",
    "\n",
    "MaskedForwardDiffusion(64)"
   ]
  },
  {
   "cell_type": "code",
   "execution_count": 516,
   "metadata": {},
   "outputs": [],
   "source": [
    "class EmbeddingBlockFirst(nn.Module):\n",
    "  def __init__(self, vocab_size, d_model, pad_idx, max_steps, dtype=None, device=None):\n",
    "    kargs = { 'dtype': dtype, 'device': device }\n",
    "    super(EmbeddingBlockFirst, self).__init__()\n",
    "    self.word_embedding = nn.Embedding(vocab_size, d_model, pad_idx, **kargs)\n",
    "    self.masked_forward_diffusion = MaskedForwardDiffusion(max_steps, **kargs)\n",
    "\n",
    "  def forward(self, X, steps, mask):\n",
    "    embed = self.word_embedding(X)\n",
    "    embed_diff = self.masked_forward_diffusion.forward(embed, steps, mask)\n",
    "    return embed_diff\n",
    "\n",
    "class EmbeddingBlockSecond(nn.Module):\n",
    "  def __init__(self, d_model, max_steps, dropout=0.1, dtype=None, device=None):\n",
    "    kargs = { 'dtype': dtype, 'device': device }\n",
    "    super(EmbeddingBlockSecond, self).__init__()\n",
    "    self.pe = PositionalEncoding(d_model, 512, **kargs)\n",
    "    self.se = StepEncoding(d_model, max_steps, **kargs)\n",
    "    self.norm = nn.LayerNorm(d_model, **kargs)\n",
    "    self.dropout = nn.Dropout(dropout)\n",
    "  \n",
    "  def forward(self, X, steps, mask):\n",
    "    X_pe = self.pe(X)\n",
    "    X_se = self.se(X_pe, steps, mask)\n",
    "    norm = self.norm(X_se)\n",
    "    out = self.dropout(norm)\n",
    "    return out\n",
    "\n",
    "class EmbeddingBlock(nn.Module):\n",
    "  def __init__(self, vocab_size, d_model, pad_idx, max_steps, dropout=0.1, dtype=None, device=None):\n",
    "    kargs = { 'dtype': dtype, 'device': device }\n",
    "    super(EmbeddingBlock, self).__init__()\n",
    "    self.first = EmbeddingBlockFirst(vocab_size, d_model, pad_idx, max_steps, **kargs)\n",
    "    self.second = EmbeddingBlockSecond(d_model, max_steps, dropout, **kargs)\n",
    "  \n",
    "  def forward(self, X, steps, mask):\n",
    "    X_first = self.first(X, steps, mask)\n",
    "    X_second = self.second(X_first, steps, mask)\n",
    "    return X_second"
   ]
  },
  {
   "cell_type": "code",
   "execution_count": null,
   "metadata": {},
   "outputs": [],
   "source": []
  },
  {
   "cell_type": "code",
   "execution_count": 524,
   "metadata": {},
   "outputs": [
    {
     "data": {
      "text/plain": [
       "<matplotlib.image.AxesImage at 0x7fa8b8201e10>"
      ]
     },
     "execution_count": 524,
     "metadata": {},
     "output_type": "execute_result"
    },
    {
     "data": {
      "image/png": "[encoded data removed]",
      "text/plain": [
       "<Figure size 640x480 with 1 Axes>"
      ]
     },
     "metadata": {},
     "output_type": "display_data"
    }
   ],
   "source": [
    "max_steps = 64\n",
    "d_model = 64\n",
    "\n",
    "embedding = EmbeddingBlock(128, d_model, 0, max_steps)\n",
    "\n",
    "data = torch.randint(0, 127, (2, 8))\n",
    "steps = torch.randint(60, 63, (2,))\n",
    "mask = torch.BoolTensor([\n",
    "  [0, 0, 0, 1, 1, 1, 1, 1],\n",
    "  [0, 0, 0, 0, 0, 1, 1, 1]\n",
    "])\n",
    "\n",
    "data = embedding(data, steps, mask)\n",
    "\n",
    "plt.imshow(data.reshape(-1, data.shape[-1]).detach().numpy(), cmap='inferno')"
   ]
  },
  {
   "cell_type": "code",
   "execution_count": 480,
   "metadata": {},
   "outputs": [
    {
     "data": {
      "text/plain": [
       "<matplotlib.image.AxesImage at 0x7fa8b8a61e10>"
      ]
     },
     "execution_count": 480,
     "metadata": {},
     "output_type": "execute_result"
    },
    {
     "data": {
      "image/png": "[encoded data removed]",
      "text/plain": [
       "<Figure size 640x480 with 1 Axes>"
      ]
     },
     "metadata": {},
     "output_type": "display_data"
    }
   ],
   "source": [
    "max_steps = 64\n",
    "d_model = 64\n",
    "\n",
    "mdf = MaskedForwardDiffusion(max_steps)\n",
    "se = StepEncoding(d_model, 64)\n",
    "pe = PositionalEncoding(d_model, 64)\n",
    "\n",
    "data = torch.randn(2, 8, d_model) * 1e-1\n",
    "steps = torch.randint(0, 63, (2,))\n",
    "mask = torch.BoolTensor([\n",
    "  [0, 0, 0, 1, 1, 1, 1, 1],\n",
    "  [0, 0, 0, 0, 0, 1, 1, 1]\n",
    "])\n",
    "\n",
    "data = mdf(data, steps, mask)\n",
    "data = se(data, steps, mask)\n",
    "data = pe(data)\n",
    "\n",
    "plt.imshow(data.reshape(-1, data.shape[-1]).detach().numpy(), cmap='inferno')"
   ]
  },
  {
   "cell_type": "code",
   "execution_count": 532,
   "metadata": {},
   "outputs": [
    {
     "data": {
      "text/plain": [
       "Model(\n",
       "  (encoder): TransformerEncoder(\n",
       "    (layers): ModuleList(\n",
       "      (0-7): 8 x EncoderTransformer(\n",
       "        (self_attn): MultiheadAttention(\n",
       "          (out_proj): NonDynamicallyQuantizableLinear(in_features=32, out_features=32, bias=False)\n",
       "        )\n",
       "        (dropout1): Dropout(p=0.1, inplace=False)\n",
       "        (norm1): LayerNorm((32,), eps=1e-05, elementwise_affine=True)\n",
       "        (linear1): Linear(in_features=32, out_features=2048, bias=True)\n",
       "        (dropout): Dropout(p=0.1, inplace=False)\n",
       "        (linear2): Linear(in_features=2048, out_features=32, bias=True)\n",
       "        (dropout2): Dropout(p=0.1, inplace=False)\n",
       "        (norm2): LayerNorm((32,), eps=1e-05, elementwise_affine=True)\n",
       "      )\n",
       "    )\n",
       "  )\n",
       "  (classification): Classification(\n",
       "    (linear): Linear(in_features=32, out_features=2048, bias=True)\n",
       "    (dropout): Dropout(p=0.1, inplace=False)\n",
       "    (linear_out): Linear(in_features=2048, out_features=256, bias=True)\n",
       "  )\n",
       ")"
      ]
     },
     "execution_count": 532,
     "metadata": {},
     "output_type": "execute_result"
    }
   ],
   "source": [
    "class EncoderTransformer(nn.Module):\n",
    "  def __init__(self, d_model, nheads, dropout=0.1, dim_feedforward=2048, activation=F.gelu, device=None, dtype=None):\n",
    "    factory_kwargs = { 'device': device, 'dtype': dtype }\n",
    "    super(EncoderTransformer, self).__init__()\n",
    "    \n",
    "    self.self_attn = nn.MultiheadAttention(d_model, nheads, dropout, False, batch_first=True, **factory_kwargs)\n",
    "    self.dropout1 = nn.Dropout(dropout)\n",
    "    self.norm1 = nn.LayerNorm(d_model, **factory_kwargs)\n",
    "\n",
    "    self.linear1 = nn.Linear(d_model, dim_feedforward, **factory_kwargs)\n",
    "    self.dropout = nn.Dropout(dropout)\n",
    "    self.linear2 = nn.Linear(dim_feedforward, d_model, **factory_kwargs)\n",
    "    self.dropout2 = nn.Dropout(dropout)\n",
    "\n",
    "    self.norm2 = nn.LayerNorm(d_model, **factory_kwargs)\n",
    "\n",
    "    self.activation = activation\n",
    "  \n",
    "  def _sa_block(self, x, attn_mask, padding_mask) -> torch.Tensor:\n",
    "    x, _ = self.self_attn(x, x, x, attn_mask=attn_mask, key_padding_mask=padding_mask, need_weights=False)\n",
    "    return self.dropout1(x)\n",
    "\n",
    "  def _ff_block(self, x) -> torch.Tensor:\n",
    "    x = self.linear2(self.dropout(self.activation(self.linear1(x))))\n",
    "    return self.dropout2(x)\n",
    "\n",
    "  def forward(self, src, attn_mask=None, padding_mask=None):\n",
    "    x = src\n",
    "    x = self.norm1(x + self._sa_block(x, attn_mask, padding_mask))\n",
    "    x = self.norm2(x + self._ff_block(x))\n",
    "    return x\n",
    "\n",
    "class Classification(nn.Module):\n",
    "  def __init__(self, d_model, vocab_size, dropout=0.1, dim_feedforward=2048, activation=F.gelu, device=None, dtype=None):\n",
    "    factory_kwargs = { 'device': device, 'dtype': dtype }\n",
    "    super(Classification, self).__init__()\n",
    "\n",
    "    self.linear = nn.Linear(d_model, dim_feedforward, **factory_kwargs)\n",
    "    self.dropout = nn.Dropout(dropout)\n",
    "    self.activation = activation\n",
    "    self.linear_out = nn.Linear(dim_feedforward, vocab_size, **factory_kwargs)\n",
    "\n",
    "  def forward(self, X):\n",
    "    X = self.activation(self.dropout(self.linear(X)))\n",
    "    return self.linear_out(X)\n",
    "  \n",
    "class Model(nn.Module):\n",
    "  def __init__(self, vocab_size, d_model, nheads, num_layers, dropout=0.1, activation=F.gelu, device=None, dtype=None):\n",
    "    factory_kwargs = { 'device': device, 'dtype': dtype }\n",
    "    super(Model, self).__init__()\n",
    "    encoder_layer = EncoderTransformer(d_model, nheads, dropout, activation=activation, **factory_kwargs)\n",
    "    self.encoder = nn.TransformerEncoder(encoder_layer, num_layers)\n",
    "    self.classification = Classification(d_model, vocab_size, dropout, activation=activation, **factory_kwargs)\n",
    "  \n",
    "\n",
    "Model(256, 32, 4, 8)"
   ]
  }
 ],
 "metadata": {
  "kernelspec": {
   "display_name": "Python 3",
   "language": "python",
   "name": "python3"
  },
  "language_info": {
   "codemirror_mode": {
    "name": "ipython",
    "version": 3
   },
   "file_extension": ".py",
   "mimetype": "text/x-python",
   "name": "python",
   "nbconvert_exporter": "python",
   "pygments_lexer": "ipython3",
   "version": "3.11.5"
  },
  "orig_nbformat": 4
 },
 "nbformat": 4,
 "nbformat_minor": 2
}
